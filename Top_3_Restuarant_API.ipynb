{
  "nbformat": 4,
  "nbformat_minor": 0,
  "metadata": {
    "colab": {
      "provenance": [],
      "authorship_tag": "ABX9TyORMSah53Q/RQsfXueUtVJX",
      "include_colab_link": true
    },
    "kernelspec": {
      "name": "python3",
      "display_name": "Python 3"
    },
    "language_info": {
      "name": "python"
    }
  },
  "cells": [
    {
      "cell_type": "markdown",
      "metadata": {
        "id": "view-in-github",
        "colab_type": "text"
      },
      "source": [
        "<a href=\"https://colab.research.google.com/github/deancuva/Final_Data_Project/blob/main/Top_3_Restuarant_API.ipynb\" target=\"_parent\"><img src=\"https://colab.research.google.com/assets/colab-badge.svg\" alt=\"Open In Colab\"/></a>"
      ]
    },
    {
      "cell_type": "code",
      "execution_count": 9,
      "metadata": {
        "id": "IjzSrPuUSanL"
      },
      "outputs": [],
      "source": [
        "import requests\n",
        "def geocode_city(city, api_key):\n",
        "    url = f\"https://api.geoapify.com/v1/geocode/search?text={city}&limit=1&apiKey={api_key}\"\n",
        "    response = requests.get(url)\n",
        "    if response.status_code == 200:\n",
        "        result = response.json()\n",
        "        features = result.get(\"features\", [])\n",
        "        if features:\n",
        "            coords = features[0][\"geometry\"][\"coordinates\"]\n",
        "            return coords[1], coords[0]  # lat, lon\n",
        "    return None, None\n"
      ]
    },
    {
      "cell_type": "code",
      "source": [
        "def get_top_restaurants(lat, lon, api_key, radius=5000, limit=10):\n",
        "    url = (\n",
        "        f\"https://api.geoapify.com/v2/places?\"\n",
        "        f\"categories=catering.restaurant&\"\n",
        "        f\"filter=circle:{lon},{lat},{radius}&\"\n",
        "        f\"limit={limit}&\"\n",
        "        f\"apiKey={api_key}\"\n",
        "    )\n",
        "    response = requests.get(url)\n",
        "    if response.status_code == 200:\n",
        "        features = response.json().get(\"features\", [])\n",
        "        return features\n",
        "    return []\n"
      ],
      "metadata": {
        "id": "2UpW_T8cSfdF"
      },
      "execution_count": 10,
      "outputs": []
    },
    {
      "cell_type": "code",
      "source": [
        "def show_restaurants_by_city(cities, api_key):\n",
        "    for city in cities:\n",
        "        print(f\"🍽️ Top Restaurants in {city}:\\n\" + \"-\"*40)\n",
        "        lat, lon = geocode_city(city, api_key)\n",
        "        if lat and lon:\n",
        "            restaurants = get_top_restaurants(lat, lon, api_key)\n",
        "            for i, place in enumerate(restaurants[:3]):\n",
        "                props = place[\"properties\"]\n",
        "                print(f\"{i+1}. {props.get('name', 'N/A')} - {props.get('formatted', 'N/A')}\")\n",
        "                print(f\"   Cuisine: {props.get('cuisine', 'Unknown')}\")\n",
        "                print(f\"   Website: {props.get('website', 'N/A')}\\n\")\n",
        "        else:\n",
        "            print(\"Could not find coordinates for this city.\\n\")\n"
      ],
      "metadata": {
        "id": "jPuXh_-vSiHf"
      },
      "execution_count": 11,
      "outputs": []
    },
    {
      "cell_type": "code",
      "source": [
        "API_KEY = \"bf3563606ea84aae982b322ba8d0f8c6\"\n",
        "cities = [\"Berlin\", \"Munich\", \"Hamburg\"]\n",
        "\n",
        "show_restaurants_by_city(cities, API_KEY)\n"
      ],
      "metadata": {
        "colab": {
          "base_uri": "https://localhost:8080/"
        },
        "id": "q2idzdOZSmqC",
        "outputId": "1a99b181-9903-4c29-ca82-6558333bb7f0"
      },
      "execution_count": 12,
      "outputs": [
        {
          "output_type": "stream",
          "name": "stdout",
          "text": [
            "🍽️ Top Restaurants in Berlin:\n",
            "----------------------------------------\n",
            "1. Restaurantschiff Patio - Restaurantschiff Patio, Helgoländer Ufer, 10557 Berlin, Germany\n",
            "   Cuisine: Unknown\n",
            "   Website: https://www.patio-berlin.de/\n",
            "\n",
            "2. Restaurant Borchardt - Restaurant Borchardt, Französische Straße 47, 10117 Berlin, Germany\n",
            "   Cuisine: Unknown\n",
            "   Website: https://www.borchardt-restaurant.de/\n",
            "\n",
            "3. Zollpackhof - Zollpackhof, Elisabeth-Abegg-Straße 1, 10557 Berlin, Germany\n",
            "   Cuisine: Unknown\n",
            "   Website: https://zollpackhof.de/\n",
            "\n",
            "🍽️ Top Restaurants in Munich:\n",
            "----------------------------------------\n",
            "🍽️ Top Restaurants in Hamburg:\n",
            "----------------------------------------\n",
            "1. Landhaus Walter - Landhaus Walter, Otto-Wels-Straße 2, 22303 Hamburg, Germany\n",
            "   Cuisine: Unknown\n",
            "   Website: https://landhaus-walter.de/\n",
            "\n",
            "2. Oberhafen-Kantine - Oberhafen-Kantine, Stockmeyerstraße 39, 20457 Hamburg, Germany\n",
            "   Cuisine: Unknown\n",
            "   Website: https://www.oberhafenkantine-hamburg.de\n",
            "\n",
            "3. Gröninger Braukeller - Gröninger Braukeller, Willy-Brandt-Straße 47, 20457 Hamburg, Germany\n",
            "   Cuisine: Unknown\n",
            "   Website: https://www.groeninger-hamburg.de\n",
            "\n"
          ]
        }
      ]
    }
  ]
}